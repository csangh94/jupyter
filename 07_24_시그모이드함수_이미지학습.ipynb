{
  "nbformat": 4,
  "nbformat_minor": 0,
  "metadata": {
    "colab": {
      "name": "07_24_시그모이드함수_이미지학습.ipynb",
      "provenance": [],
      "collapsed_sections": []
    },
    "kernelspec": {
      "name": "python3",
      "display_name": "Python 3"
    }
  },
  "cells": [
    {
      "cell_type": "code",
      "metadata": {
        "id": "CGKpsN7Lgrea",
        "colab_type": "code",
        "colab": {}
      },
      "source": [
        "import numpy as np\n",
        "import random\n",
        "import tensorflow as tf"
      ],
      "execution_count": 96,
      "outputs": []
    },
    {
      "cell_type": "code",
      "metadata": {
        "id": "loXFQMPZgs_R",
        "colab_type": "code",
        "colab": {}
      },
      "source": [
        "mnist = tf.keras.datasets.mnist\n",
        "#iris = tf.keras.datasets."
      ],
      "execution_count": 98,
      "outputs": []
    },
    {
      "cell_type": "code",
      "metadata": {
        "id": "ocv4axF1gyox",
        "colab_type": "code",
        "colab": {
          "base_uri": "https://localhost:8080/",
          "height": 34
        },
        "outputId": "a9037601-e0df-4d36-ba19-1241e6a8ebc4"
      },
      "source": [
        "mnist"
      ],
      "execution_count": 99,
      "outputs": [
        {
          "output_type": "execute_result",
          "data": {
            "text/plain": [
              "<module 'tensorflow.keras.datasets.mnist' from '/usr/local/lib/python3.6/dist-packages/tensorflow/keras/datasets/mnist/__init__.py'>"
            ]
          },
          "metadata": {
            "tags": []
          },
          "execution_count": 99
        }
      ]
    },
    {
      "cell_type": "code",
      "metadata": {
        "id": "RlZsqVY1gy-G",
        "colab_type": "code",
        "colab": {}
      },
      "source": [
        "import matplotlib.pylab as plt"
      ],
      "execution_count": 100,
      "outputs": []
    },
    {
      "cell_type": "code",
      "metadata": {
        "id": "vtVZXbiAhH0E",
        "colab_type": "code",
        "colab": {}
      },
      "source": [
        "(X_train0, y_train0), (X_test0, y_test0) = mnist.load_data() #데이터를 불러 와서 넣음"
      ],
      "execution_count": 101,
      "outputs": []
    },
    {
      "cell_type": "code",
      "metadata": {
        "id": "JCNV2NNmiEvG",
        "colab_type": "code",
        "colab": {
          "base_uri": "https://localhost:8080/",
          "height": 879
        },
        "outputId": "4bb0fcff-1db6-4e89-9354-5ea5c814352a"
      },
      "source": [
        "X_train0 #이미지 데이터 -> 2차원 배열로 만들어놓고 -> 다시 1차원 배열로 만들어 인식시킨다.\n",
        "\n",
        "\n",
        "#이미지는 원래 2차원 배열로 구성되어 있다.\n",
        "#근데, 학습시킬때는 이 2차원 배열을 전부 1차원으로 만들어서 원핫인코딩(0,1)로서 만듦\n",
        "#1은 색상이 있는 것인데, 이걸로 색상의 타입을 구분한다.\n",
        "#"
      ],
      "execution_count": 102,
      "outputs": [
        {
          "output_type": "execute_result",
          "data": {
            "text/plain": [
              "array([[[0, 0, 0, ..., 0, 0, 0],\n",
              "        [0, 0, 0, ..., 0, 0, 0],\n",
              "        [0, 0, 0, ..., 0, 0, 0],\n",
              "        ...,\n",
              "        [0, 0, 0, ..., 0, 0, 0],\n",
              "        [0, 0, 0, ..., 0, 0, 0],\n",
              "        [0, 0, 0, ..., 0, 0, 0]],\n",
              "\n",
              "       [[0, 0, 0, ..., 0, 0, 0],\n",
              "        [0, 0, 0, ..., 0, 0, 0],\n",
              "        [0, 0, 0, ..., 0, 0, 0],\n",
              "        ...,\n",
              "        [0, 0, 0, ..., 0, 0, 0],\n",
              "        [0, 0, 0, ..., 0, 0, 0],\n",
              "        [0, 0, 0, ..., 0, 0, 0]],\n",
              "\n",
              "       [[0, 0, 0, ..., 0, 0, 0],\n",
              "        [0, 0, 0, ..., 0, 0, 0],\n",
              "        [0, 0, 0, ..., 0, 0, 0],\n",
              "        ...,\n",
              "        [0, 0, 0, ..., 0, 0, 0],\n",
              "        [0, 0, 0, ..., 0, 0, 0],\n",
              "        [0, 0, 0, ..., 0, 0, 0]],\n",
              "\n",
              "       ...,\n",
              "\n",
              "       [[0, 0, 0, ..., 0, 0, 0],\n",
              "        [0, 0, 0, ..., 0, 0, 0],\n",
              "        [0, 0, 0, ..., 0, 0, 0],\n",
              "        ...,\n",
              "        [0, 0, 0, ..., 0, 0, 0],\n",
              "        [0, 0, 0, ..., 0, 0, 0],\n",
              "        [0, 0, 0, ..., 0, 0, 0]],\n",
              "\n",
              "       [[0, 0, 0, ..., 0, 0, 0],\n",
              "        [0, 0, 0, ..., 0, 0, 0],\n",
              "        [0, 0, 0, ..., 0, 0, 0],\n",
              "        ...,\n",
              "        [0, 0, 0, ..., 0, 0, 0],\n",
              "        [0, 0, 0, ..., 0, 0, 0],\n",
              "        [0, 0, 0, ..., 0, 0, 0]],\n",
              "\n",
              "       [[0, 0, 0, ..., 0, 0, 0],\n",
              "        [0, 0, 0, ..., 0, 0, 0],\n",
              "        [0, 0, 0, ..., 0, 0, 0],\n",
              "        ...,\n",
              "        [0, 0, 0, ..., 0, 0, 0],\n",
              "        [0, 0, 0, ..., 0, 0, 0],\n",
              "        [0, 0, 0, ..., 0, 0, 0]]], dtype=uint8)"
            ]
          },
          "metadata": {
            "tags": []
          },
          "execution_count": 102
        }
      ]
    },
    {
      "cell_type": "code",
      "metadata": {
        "id": "24LT8eBziIUc",
        "colab_type": "code",
        "colab": {
          "base_uri": "https://localhost:8080/",
          "height": 34
        },
        "outputId": "806d5855-2c52-4797-cb6d-3ff50d9447d8"
      },
      "source": [
        "y_train0 #그래서~~~ 마지막줄은 8, 마지막줄 전은 6으로 표현해주고 있음"
      ],
      "execution_count": 103,
      "outputs": [
        {
          "output_type": "execute_result",
          "data": {
            "text/plain": [
              "array([5, 0, 4, ..., 5, 6, 8], dtype=uint8)"
            ]
          },
          "metadata": {
            "tags": []
          },
          "execution_count": 103
        }
      ]
    },
    {
      "cell_type": "code",
      "metadata": {
        "id": "qXdNoOVSiKsR",
        "colab_type": "code",
        "colab": {
          "base_uri": "https://localhost:8080/",
          "height": 85
        },
        "outputId": "012463cb-0ba0-431a-b8e4-3e6cbcaaec1e"
      },
      "source": [
        "plt.figure(figsize=(6,1))\n",
        "for i in range(36):\n",
        "   plt.subplot(3,12, i+1)\n",
        "   plt.imshow(X_train0[i], cmap='gray') #colormap = gray\n",
        "   plt.axis('off')\n",
        "plt.show()\n",
        "\n",
        "#트레인 데이터 안에 들어가 있는 애들임"
      ],
      "execution_count": 104,
      "outputs": [
        {
          "output_type": "display_data",
          "data": {
            "image/png": "[encoded data removed]",
            "text/plain": [
              "<Figure size 432x72 with 36 Axes>"
            ]
          },
          "metadata": {
            "tags": [],
            "needs_background": "light"
          }
        }
      ]
    },
    {
      "cell_type": "code",
      "metadata": {
        "id": "gzHQWWdyiujr",
        "colab_type": "code",
        "colab": {}
      },
      "source": [
        "#2차원 데이터를 1차원으로 만들어 넣어주는 함수가 있음 / 이미지는 2차원되어 있는걸 1차원으로 읽겠금 해서 컴퓨터가 읽음"
      ],
      "execution_count": 105,
      "outputs": []
    },
    {
      "cell_type": "code",
      "metadata": {
        "id": "qbMdpMUtjuV1",
        "colab_type": "code",
        "colab": {}
      },
      "source": [
        "X_train = X_train0.reshape(60000, 784).astype('float32')/255.0 #일렬로 쭉 만들어줌\n",
        "#28x28 짜리 = 784로 만듦"
      ],
      "execution_count": 106,
      "outputs": []
    },
    {
      "cell_type": "code",
      "metadata": {
        "id": "rfwkovqnj3Kq",
        "colab_type": "code",
        "colab": {}
      },
      "source": [
        "X_test = X_test0.reshape(10000, 784).astype('float32')/255.0 #일렬로 쭉 만들어줌"
      ],
      "execution_count": 107,
      "outputs": []
    },
    {
      "cell_type": "code",
      "metadata": {
        "id": "DWlvq6ygkFJx",
        "colab_type": "code",
        "colab": {
          "base_uri": "https://localhost:8080/",
          "height": 34
        },
        "outputId": "928c47ca-ac7c-49f3-eefb-ffddc2250bb0"
      },
      "source": [
        "y_train0[:5]  "
      ],
      "execution_count": 108,
      "outputs": [
        {
          "output_type": "execute_result",
          "data": {
            "text/plain": [
              "array([5, 0, 4, 1, 9], dtype=uint8)"
            ]
          },
          "metadata": {
            "tags": []
          },
          "execution_count": 108
        }
      ]
    },
    {
      "cell_type": "code",
      "metadata": {
        "id": "jvqAOg21kKT2",
        "colab_type": "code",
        "colab": {}
      },
      "source": [
        "#범주형으로 되어있는건 크고 작다고 생각함. \n",
        "#하여 -> 원핫인코딩으로 바꿔줘서 넣어야 데이터를 파단함"
      ],
      "execution_count": 109,
      "outputs": []
    },
    {
      "cell_type": "code",
      "metadata": {
        "id": "yuuEGK8UkTXv",
        "colab_type": "code",
        "colab": {}
      },
      "source": [
        "#범주형은 one-hot 인코딩으로 각 카테고리별 항목을 만들어, 해당하는 항목에 표시하는 형식으로 0,1로 구분하여줌.\n",
        "#1은 해당항목에 속한다는 뜻이고, \n",
        "#0은 해당항목에 속하지 않는다는 뜻이다.\n",
        "#원핫인코딩 : keras(to_categorical()) "
      ],
      "execution_count": 110,
      "outputs": []
    },
    {
      "cell_type": "code",
      "metadata": {
        "id": "YogDQHH8kmHq",
        "colab_type": "code",
        "colab": {}
      },
      "source": [
        "from tensorflow.keras.utils import to_categorical"
      ],
      "execution_count": 111,
      "outputs": []
    },
    {
      "cell_type": "code",
      "metadata": {
        "id": "wyeW2ewRlMgt",
        "colab_type": "code",
        "colab": {
          "base_uri": "https://localhost:8080/",
          "height": 34
        },
        "outputId": "ce821a81-8fc7-40ec-e717-40d8ff39be8f"
      },
      "source": [
        "y_train0"
      ],
      "execution_count": 112,
      "outputs": [
        {
          "output_type": "execute_result",
          "data": {
            "text/plain": [
              "array([5, 0, 4, ..., 5, 6, 8], dtype=uint8)"
            ]
          },
          "metadata": {
            "tags": []
          },
          "execution_count": 112
        }
      ]
    },
    {
      "cell_type": "code",
      "metadata": {
        "id": "adw3CkBJlJfo",
        "colab_type": "code",
        "colab": {
          "base_uri": "https://localhost:8080/",
          "height": 105
        },
        "outputId": "8c0665e8-a07c-44f8-be78-dc46a1826ead"
      },
      "source": [
        "Y_train = to_categorical(y_train0, 10)\n",
        "Y_test = to_categorical(y_test0, 10)\n",
        "Y_train[0:5] #원핫인코딩임"
      ],
      "execution_count": 113,
      "outputs": [
        {
          "output_type": "execute_result",
          "data": {
            "text/plain": [
              "array([[0., 0., 0., 0., 0., 1., 0., 0., 0., 0.],\n",
              "       [1., 0., 0., 0., 0., 0., 0., 0., 0., 0.],\n",
              "       [0., 0., 0., 0., 1., 0., 0., 0., 0., 0.],\n",
              "       [0., 1., 0., 0., 0., 0., 0., 0., 0., 0.],\n",
              "       [0., 0., 0., 0., 0., 0., 0., 0., 0., 1.]], dtype=float32)"
            ]
          },
          "metadata": {
            "tags": []
          },
          "execution_count": 113
        }
      ]
    },
    {
      "cell_type": "code",
      "metadata": {
        "id": "7fl8h544lUlu",
        "colab_type": "code",
        "colab": {}
      },
      "source": [
        "#원핫인코딩 = to_categorical / 데이터를 1차원으로 쭉 만들어줘야하고, 카테고리는 더미파일로 만들어줘야함(원핫인코딩)"
      ],
      "execution_count": 114,
      "outputs": []
    },
    {
      "cell_type": "code",
      "metadata": {
        "id": "cdD02SODl1a7",
        "colab_type": "code",
        "colab": {}
      },
      "source": [
        "from tensorflow.keras.models import Sequential\n",
        "#DeepLearning의 레이어를 쌓을 수 있는 틀 역할"
      ],
      "execution_count": 115,
      "outputs": []
    },
    {
      "cell_type": "code",
      "metadata": {
        "id": "qu_daG0xmKOw",
        "colab_type": "code",
        "colab": {}
      },
      "source": [
        "from tensorflow.keras.layers import Dense\n",
        "#각 레이어에 해당하는 객체"
      ],
      "execution_count": 116,
      "outputs": []
    },
    {
      "cell_type": "code",
      "metadata": {
        "id": "WoMuaJHTmOEK",
        "colab_type": "code",
        "colab": {}
      },
      "source": [
        "#옵티마이저 필요 : 학습률 조절\n",
        "from tensorflow.keras.optimizers import SGD #경사하강법 종류 하나 임포트"
      ],
      "execution_count": 117,
      "outputs": []
    },
    {
      "cell_type": "code",
      "metadata": {
        "id": "1nD-4wzhmU1q",
        "colab_type": "code",
        "colab": {}
      },
      "source": [
        "tf.random.set_seed(0)"
      ],
      "execution_count": 118,
      "outputs": []
    },
    {
      "cell_type": "code",
      "metadata": {
        "id": "mmYKTQ24mzA-",
        "colab_type": "code",
        "colab": {}
      },
      "source": [
        "#신경망 구축 시작\n",
        "#1. 특열할 객체를 생성해라\n",
        "#2. layer를 쌓아라\n",
        "#3. model compile // 모델컴파일\n",
        "\n",
        "model = Sequential() "
      ],
      "execution_count": 119,
      "outputs": []
    },
    {
      "cell_type": "code",
      "metadata": {
        "id": "x91p-_OJm4JE",
        "colab_type": "code",
        "colab": {}
      },
      "source": [
        "#입력층\n",
        "\n",
        "model.add(Dense(15, input_dim=784, activation='sigmoid')) #Chain식으로 구축함, input은 퍼셉트론인데 현재 글자를 2차원 -> 1차원 배열로 바꿔놓음, 그게 784개임\n",
        "#이미지는 시그모이드 함수를 이용\n",
        "\n",
        "#DENSE 는 INPUT 에서 뻗어나가는 가지수\n",
        "#INPUT_DIM 은 입력층에서 입력하는 노드의 개수"
      ],
      "execution_count": 120,
      "outputs": []
    },
    {
      "cell_type": "code",
      "metadata": {
        "id": "C18F0Rbanj16",
        "colab_type": "code",
        "colab": {}
      },
      "source": [
        "#SIGMOID 함수는 0과 1 로 나누어진 것중, 가까운곳에 위치한걸 정답으로 예측함\n",
        "#로지스틱(시그모이드) -> 어떤 값이 들어왔을때 0.5 이상이면 1로 판단 / 0.5 이하면 0으로 판단해서 -> 결과값을 예측함\n",
        "#부가 : 계단함수는 0과 1로만 딱 나누어짐 / "
      ],
      "execution_count": 121,
      "outputs": []
    },
    {
      "cell_type": "code",
      "metadata": {
        "id": "p9H-PGpYpdyt",
        "colab_type": "code",
        "colab": {}
      },
      "source": [
        "#출력층\n",
        "\n",
        "model.add(Dense(10, activation='sigmoid'))"
      ],
      "execution_count": 122,
      "outputs": []
    },
    {
      "cell_type": "code",
      "metadata": {
        "id": "UtkNoEBQqTx_",
        "colab_type": "code",
        "colab": {}
      },
      "source": [
        "model.compile(optimizer=SGD(lr=0.2), loss='mean_squared_error', metrics=['accuracy']) #SGD 방식을 이용하여, 최적화 기울기를 찾아라. \n",
        "#loss 움직일때, 면적으로 움직여라. 움직이는 면적을 점점 줄여라\n",
        "#1번 그래프, 2번 그래프간의 간격 거리를 줄이며 최적화 시킬때는 mean_square(네모')로 점점 줄이면서 최적화 기울기를 찾으시오.\n",
        "#accuracy가 점점 떨어진다면, 나는 문제있다고 보여주어라"
      ],
      "execution_count": 123,
      "outputs": []
    },
    {
      "cell_type": "code",
      "metadata": {
        "id": "nergZqd9rUk9",
        "colab_type": "code",
        "colab": {
          "base_uri": "https://localhost:8080/",
          "height": 756
        },
        "outputId": "0dbc2c55-ce1a-4179-c5d1-119d49389ea8"
      },
      "source": [
        "%%time\n",
        "hist = model.fit(X_train, Y_train,\n",
        "                epochs=20, batch_size=100,\n",
        "                 validation_data=(X_test, Y_test), \n",
        "                 verbose=2\n",
        "                )\n",
        "#양이 많으니깐, batch로 100개씩 묶어서 해라\n",
        "#(한 번의 epoch는 인공 신경망에서 전체 데이터 셋에 대해 forward pass/backward pass 과정을 거친 것을 말함. 즉, 전체 데이터 셋에 대해 한 번 학습을 완료한 상태) \n",
        "#batch size는 한 번의 batch마다 주는 데이터 샘플의 size. 여기서 batch(보통 mini-batch라고 표현)는 나눠진 데이터 셋을 뜻하며 iteration는 epoch를 나누어서 실행하는 횟수라고 생각하면 됨."
      ],
      "execution_count": 124,
      "outputs": [
        {
          "output_type": "stream",
          "text": [
            "Epoch 1/20\n",
            "600/600 - 1s - loss: 0.0990 - accuracy: 0.2698 - val_loss: 0.0878 - val_accuracy: 0.3831\n",
            "Epoch 2/20\n",
            "600/600 - 1s - loss: 0.0867 - accuracy: 0.4191 - val_loss: 0.0853 - val_accuracy: 0.4480\n",
            "Epoch 3/20\n",
            "600/600 - 1s - loss: 0.0835 - accuracy: 0.4619 - val_loss: 0.0811 - val_accuracy: 0.4739\n",
            "Epoch 4/20\n",
            "600/600 - 1s - loss: 0.0788 - accuracy: 0.4920 - val_loss: 0.0760 - val_accuracy: 0.5149\n",
            "Epoch 5/20\n",
            "600/600 - 1s - loss: 0.0736 - accuracy: 0.5373 - val_loss: 0.0708 - val_accuracy: 0.5545\n",
            "Epoch 6/20\n",
            "600/600 - 1s - loss: 0.0684 - accuracy: 0.5762 - val_loss: 0.0657 - val_accuracy: 0.5993\n",
            "Epoch 7/20\n",
            "600/600 - 1s - loss: 0.0637 - accuracy: 0.6111 - val_loss: 0.0612 - val_accuracy: 0.6260\n",
            "Epoch 8/20\n",
            "600/600 - 1s - loss: 0.0595 - accuracy: 0.6354 - val_loss: 0.0573 - val_accuracy: 0.6467\n",
            "Epoch 9/20\n",
            "600/600 - 1s - loss: 0.0559 - accuracy: 0.6579 - val_loss: 0.0539 - val_accuracy: 0.6714\n",
            "Epoch 10/20\n",
            "600/600 - 1s - loss: 0.0528 - accuracy: 0.6830 - val_loss: 0.0510 - val_accuracy: 0.6989\n",
            "Epoch 11/20\n",
            "600/600 - 1s - loss: 0.0501 - accuracy: 0.7120 - val_loss: 0.0484 - val_accuracy: 0.7282\n",
            "Epoch 12/20\n",
            "600/600 - 1s - loss: 0.0476 - accuracy: 0.7371 - val_loss: 0.0461 - val_accuracy: 0.7594\n",
            "Epoch 13/20\n",
            "600/600 - 1s - loss: 0.0454 - accuracy: 0.7638 - val_loss: 0.0440 - val_accuracy: 0.7794\n",
            "Epoch 14/20\n",
            "600/600 - 1s - loss: 0.0434 - accuracy: 0.7858 - val_loss: 0.0420 - val_accuracy: 0.8007\n",
            "Epoch 15/20\n",
            "600/600 - 1s - loss: 0.0415 - accuracy: 0.8035 - val_loss: 0.0402 - val_accuracy: 0.8202\n",
            "Epoch 16/20\n",
            "600/600 - 1s - loss: 0.0397 - accuracy: 0.8192 - val_loss: 0.0384 - val_accuracy: 0.8330\n",
            "Epoch 17/20\n",
            "600/600 - 1s - loss: 0.0381 - accuracy: 0.8303 - val_loss: 0.0368 - val_accuracy: 0.8444\n",
            "Epoch 18/20\n",
            "600/600 - 1s - loss: 0.0365 - accuracy: 0.8396 - val_loss: 0.0352 - val_accuracy: 0.8529\n",
            "Epoch 19/20\n",
            "600/600 - 1s - loss: 0.0351 - accuracy: 0.8462 - val_loss: 0.0339 - val_accuracy: 0.8602\n",
            "Epoch 20/20\n",
            "600/600 - 1s - loss: 0.0338 - accuracy: 0.8528 - val_loss: 0.0326 - val_accuracy: 0.8632\n",
            "CPU times: user 30.5 s, sys: 2.12 s, total: 32.6 s\n",
            "Wall time: 23.6 s\n"
          ],
          "name": "stdout"
        }
      ]
    },
    {
      "cell_type": "code",
      "metadata": {
        "id": "IQfGX6OhrVK6",
        "colab_type": "code",
        "colab": {
          "base_uri": "https://localhost:8080/",
          "height": 265
        },
        "outputId": "f83316c3-b796-4945-92c0-d2245b825191"
      },
      "source": [
        "plt.figure(figsize=(8,4))\n",
        "plt.subplot(1,2,1) #이 행에 끼겠다\n",
        "plt.plot(hist.history['loss'])\n",
        "plt.show()"
      ],
      "execution_count": 125,
      "outputs": [
        {
          "output_type": "display_data",
          "data": {
            "image/png": "[encoded data removed]",
            "text/plain": [
              "<Figure size 576x288 with 1 Axes>"
            ]
          },
          "metadata": {
            "tags": [],
            "needs_background": "light"
          }
        }
      ]
    },
    {
      "cell_type": "code",
      "metadata": {
        "id": "mYc9SG9GvqI9",
        "colab_type": "code",
        "colab": {
          "base_uri": "https://localhost:8080/",
          "height": 281
        },
        "outputId": "542557dd-9394-4ee4-c1b4-3b56f6b230fc"
      },
      "source": [
        "plt.figure(figsize=(8,4))\n",
        "plt.subplot(1,2,1) #이 행에 끼겠다\n",
        "plt.plot(hist.history['loss'])\n",
        "plt.title('loss')\n",
        "\n",
        "plt.subplot(1,2,2)\n",
        "plt.plot(hist.history['accuracy'], '-b', label='training')\n",
        "plt.title('accuracy')\n",
        "plt.show()"
      ],
      "execution_count": 126,
      "outputs": [
        {
          "output_type": "display_data",
          "data": {
            "image/png": "[encoded data removed]",
            "text/plain": [
              "<Figure size 576x288 with 2 Axes>"
            ]
          },
          "metadata": {
            "tags": [],
            "needs_background": "light"
          }
        }
      ]
    },
    {
      "cell_type": "code",
      "metadata": {
        "id": "jOrrnw-Tv-QQ",
        "colab_type": "code",
        "colab": {
          "base_uri": "https://localhost:8080/",
          "height": 281
        },
        "outputId": "a624fd30-f4ba-4385-d634-2604530abdd3"
      },
      "source": [
        "plt.figure(figsize=(8,4))\n",
        "plt.subplot(1,2,1) #이 행에 끼겠다\n",
        "plt.plot(hist.history['loss'])\n",
        "plt.title('loss')\n",
        "\n",
        "plt.subplot(1,2,2)\n",
        "plt.plot(hist.history['accuracy'], '-b', label='training')\n",
        "plt.plot(hist.history['val_accuracy'], 'r:', label='validation')\n",
        "plt.title('accuracy')\n",
        "plt.legend()\n",
        "plt.show()\n",
        "\n",
        "#그래프가 점점 최적화로 되면서, 손실율을 줄이는거다(마진이 줄어드니깐 그래프가 최적화된 선을 찾아가잖아)\n",
        "#accuracy는 정답률을 점점 맞추고 있다."
      ],
      "execution_count": 127,
      "outputs": [
        {
          "output_type": "display_data",
          "data": {
            "image/png": "[encoded data removed]",
            "text/plain": [
              "<Figure size 576x288 with 2 Axes>"
            ]
          },
          "metadata": {
            "tags": [],
            "needs_background": "light"
          }
        }
      ]
    },
    {
      "cell_type": "code",
      "metadata": {
        "id": "jdKb6ATDwNpn",
        "colab_type": "code",
        "colab": {
          "base_uri": "https://localhost:8080/",
          "height": 1000
        },
        "outputId": "aa8b5693-d94b-45ac-fa8a-b16f71a76cc7"
      },
      "source": [
        "hist.history"
      ],
      "execution_count": 128,
      "outputs": [
        {
          "output_type": "execute_result",
          "data": {
            "text/plain": [
              "{'accuracy': [0.2697666585445404,\n",
              "  0.41913333535194397,\n",
              "  0.461899995803833,\n",
              "  0.49195000529289246,\n",
              "  0.5373166799545288,\n",
              "  0.576200008392334,\n",
              "  0.6110666394233704,\n",
              "  0.6354333162307739,\n",
              "  0.6579166650772095,\n",
              "  0.6829833388328552,\n",
              "  0.7119666934013367,\n",
              "  0.7371000051498413,\n",
              "  0.7638000249862671,\n",
              "  0.7858499884605408,\n",
              "  0.8034833073616028,\n",
              "  0.8192166686058044,\n",
              "  0.8303333520889282,\n",
              "  0.8395833373069763,\n",
              "  0.8461833596229553,\n",
              "  0.8527666926383972],\n",
              " 'loss': [0.09895489364862442,\n",
              "  0.08670753240585327,\n",
              "  0.0834687277674675,\n",
              "  0.07875487208366394,\n",
              "  0.07358437031507492,\n",
              "  0.06843540072441101,\n",
              "  0.0636521503329277,\n",
              "  0.059467997401952744,\n",
              "  0.055873971432447433,\n",
              "  0.05276728793978691,\n",
              "  0.05005067586898804,\n",
              "  0.047634340822696686,\n",
              "  0.045445285737514496,\n",
              "  0.043421827256679535,\n",
              "  0.04152717441320419,\n",
              "  0.039744675159454346,\n",
              "  0.038075439631938934,\n",
              "  0.036527544260025024,\n",
              "  0.03510487079620361,\n",
              "  0.03380851820111275],\n",
              " 'val_accuracy': [0.3831000030040741,\n",
              "  0.4480000138282776,\n",
              "  0.4738999903202057,\n",
              "  0.5149000287055969,\n",
              "  0.5544999837875366,\n",
              "  0.5993000268936157,\n",
              "  0.6259999871253967,\n",
              "  0.6467000246047974,\n",
              "  0.6714000105857849,\n",
              "  0.6988999843597412,\n",
              "  0.7282000184059143,\n",
              "  0.7594000101089478,\n",
              "  0.7793999910354614,\n",
              "  0.8007000088691711,\n",
              "  0.8202000260353088,\n",
              "  0.8330000042915344,\n",
              "  0.8443999886512756,\n",
              "  0.8529000282287598,\n",
              "  0.8601999878883362,\n",
              "  0.8632000088691711],\n",
              " 'val_loss': [0.0878022238612175,\n",
              "  0.08529100567102432,\n",
              "  0.08114240318536758,\n",
              "  0.0760345309972763,\n",
              "  0.07077790796756744,\n",
              "  0.06572199612855911,\n",
              "  0.06118173152208328,\n",
              "  0.05727946013212204,\n",
              "  0.05391846224665642,\n",
              "  0.05100809410214424,\n",
              "  0.048429835587739944,\n",
              "  0.04612037166953087,\n",
              "  0.0439985916018486,\n",
              "  0.04201490804553032,\n",
              "  0.040150236338377,\n",
              "  0.038396190851926804,\n",
              "  0.03675903007388115,\n",
              "  0.035248976200819016,\n",
              "  0.03387289494276047,\n",
              "  0.03260873630642891]}"
            ]
          },
          "metadata": {
            "tags": []
          },
          "execution_count": 128
        }
      ]
    },
    {
      "cell_type": "code",
      "metadata": {
        "id": "HUMRNvoQwhtA",
        "colab_type": "code",
        "colab": {
          "base_uri": "https://localhost:8080/",
          "height": 70
        },
        "outputId": "b0ac2428-e8a4-41bc-aa86-73a2f40fda93"
      },
      "source": [
        "#모델을 사용하여예측해봄\n",
        "\n",
        "model.predict(X_test[:1, :])\n",
        "\n",
        "#0번부터 9번까지 될 확률을 뽑아준것임\n",
        "#이미지가 0~9번까지 지금 분류되어있잖아. "
      ],
      "execution_count": 129,
      "outputs": [
        {
          "output_type": "execute_result",
          "data": {
            "text/plain": [
              "array([[0.07847008, 0.0175702 , 0.0304372 , 0.09370029, 0.03188553,\n",
              "        0.07221228, 0.0011594 , 0.81734556, 0.05743411, 0.19194372]],\n",
              "      dtype=float32)"
            ]
          },
          "metadata": {
            "tags": []
          },
          "execution_count": 129
        }
      ]
    },
    {
      "cell_type": "code",
      "metadata": {
        "id": "HHCa0wyDw6zf",
        "colab_type": "code",
        "colab": {
          "base_uri": "https://localhost:8080/",
          "height": 140
        },
        "outputId": "738b9751-dfdf-47fe-f989-92ea84f652e3"
      },
      "source": [
        "X_test"
      ],
      "execution_count": 130,
      "outputs": [
        {
          "output_type": "execute_result",
          "data": {
            "text/plain": [
              "array([[0., 0., 0., ..., 0., 0., 0.],\n",
              "       [0., 0., 0., ..., 0., 0., 0.],\n",
              "       [0., 0., 0., ..., 0., 0., 0.],\n",
              "       ...,\n",
              "       [0., 0., 0., ..., 0., 0., 0.],\n",
              "       [0., 0., 0., ..., 0., 0., 0.],\n",
              "       [0., 0., 0., ..., 0., 0., 0.]], dtype=float32)"
            ]
          },
          "metadata": {
            "tags": []
          },
          "execution_count": 130
        }
      ]
    },
    {
      "cell_type": "code",
      "metadata": {
        "id": "K01Abg9HxJai",
        "colab_type": "code",
        "colab": {
          "base_uri": "https://localhost:8080/",
          "height": 34
        },
        "outputId": "0ab75f1b-2d3b-4ecf-f7b2-341d4a7771ee"
      },
      "source": [
        "model.predict_classes(X_test[:1, :], verbose=0)"
      ],
      "execution_count": 131,
      "outputs": [
        {
          "output_type": "execute_result",
          "data": {
            "text/plain": [
              "array([7])"
            ]
          },
          "metadata": {
            "tags": []
          },
          "execution_count": 131
        }
      ]
    },
    {
      "cell_type": "code",
      "metadata": {
        "id": "j9-TUMguxYNH",
        "colab_type": "code",
        "colab": {
          "base_uri": "https://localhost:8080/",
          "height": 85
        },
        "outputId": "bbcaeef2-3bd1-46e8-b4eb-4dd21ead8931"
      },
      "source": [
        "plt.figure(figsize=(1,1))\n",
        "plt.imshow(X_test0[0], cmap=plt.cm.bone_r) #이 행에 끼겠다\n",
        "plt.grid(False)\n",
        "plt.axis(\"off\")\n",
        "plt.show()"
      ],
      "execution_count": 132,
      "outputs": [
        {
          "output_type": "display_data",
          "data": {
            "image/png": "[encoded data removed]",
            "text/plain": [
              "<Figure size 72x72 with 1 Axes>"
            ]
          },
          "metadata": {
            "tags": [],
            "needs_background": "light"
          }
        }
      ]
    },
    {
      "cell_type": "code",
      "metadata": {
        "id": "DWcDXQ3Dxu2k",
        "colab_type": "code",
        "colab": {
          "base_uri": "https://localhost:8080/",
          "height": 70
        },
        "outputId": "1cce9b1f-2c59-4a11-e421-44daae1ef780"
      },
      "source": [
        "model.predict(X_test[1:2, :])\n",
        "\n",
        "#0~9 까지 각각의 가능성 퍼센티지를 찾아주는 것임"
      ],
      "execution_count": 133,
      "outputs": [
        {
          "output_type": "execute_result",
          "data": {
            "text/plain": [
              "array([[0.16747737, 0.05332464, 0.37588322, 0.08386496, 0.01498869,\n",
              "        0.06657639, 0.31780887, 0.00518978, 0.06138788, 0.0206296 ]],\n",
              "      dtype=float32)"
            ]
          },
          "metadata": {
            "tags": []
          },
          "execution_count": 133
        }
      ]
    },
    {
      "cell_type": "code",
      "metadata": {
        "id": "rel17ywnx2tO",
        "colab_type": "code",
        "colab": {
          "base_uri": "https://localhost:8080/",
          "height": 34
        },
        "outputId": "25b4aee0-f8e9-4b4f-c396-05db210213df"
      },
      "source": [
        "model.predict_classes(X_test[1:2, :], verbose=0)\n",
        "\n",
        "#Array[6] 에 있는 0.19의 정확도가 제일 높기때문에 -> array[6] 으로 표시한것이고, 그리고 그거의 이미지는 2이다."
      ],
      "execution_count": 134,
      "outputs": [
        {
          "output_type": "execute_result",
          "data": {
            "text/plain": [
              "array([2])"
            ]
          },
          "metadata": {
            "tags": []
          },
          "execution_count": 134
        }
      ]
    },
    {
      "cell_type": "code",
      "metadata": {
        "id": "MJWCiKEEyfX1",
        "colab_type": "code",
        "colab": {
          "base_uri": "https://localhost:8080/",
          "height": 85
        },
        "outputId": "7e1fe2c8-dcaa-4d5e-ab6b-29b348995575"
      },
      "source": [
        "plt.figure(figsize=(1,1))\n",
        "plt.imshow(X_test0[1], cmap=plt.cm.bone_r) #이 행에 끼겠다\n",
        "plt.grid(False)\n",
        "plt.axis(\"off\")\n",
        "plt.show()"
      ],
      "execution_count": 135,
      "outputs": [
        {
          "output_type": "display_data",
          "data": {
            "image/png": "[encoded data removed]",
            "text/plain": [
              "<Figure size 72x72 with 1 Axes>"
            ]
          },
          "metadata": {
            "tags": [],
            "needs_background": "light"
          }
        }
      ]
    },
    {
      "cell_type": "code",
      "metadata": {
        "id": "xhmAOd9xymVz",
        "colab_type": "code",
        "colab": {
          "base_uri": "https://localhost:8080/",
          "height": 70
        },
        "outputId": "bb930e7b-9c8c-442f-c563-f050b1741854"
      },
      "source": [
        "evaluation = model.evaluate(X_test, Y_test)\n",
        "print('loss: ', evaluation[0])\n",
        "print('accuracy', evaluation[1])"
      ],
      "execution_count": 143,
      "outputs": [
        {
          "output_type": "stream",
          "text": [
            "313/313 [==============================] - 0s 1ms/step - loss: 0.0326 - accuracy: 0.8632\n",
            "loss:  0.03260873258113861\n",
            "accuracy 0.8632000088691711\n"
          ],
          "name": "stdout"
        }
      ]
    },
    {
      "cell_type": "code",
      "metadata": {
        "id": "I8JvHU7189R4",
        "colab_type": "code",
        "colab": {}
      },
      "source": [
        "model.save('my_model.hdf5')\n",
        "del model"
      ],
      "execution_count": 144,
      "outputs": []
    },
    {
      "cell_type": "code",
      "metadata": {
        "id": "RJO-Q2j49RFB",
        "colab_type": "code",
        "colab": {
          "base_uri": "https://localhost:8080/",
          "height": 34
        },
        "outputId": "c0d4c8a0-3f4d-4c40-cec8-f1fec093ac4c"
      },
      "source": [
        "from tensorflow.keras.models import load_model\n",
        "\n",
        "model2 = load_model('my_model.hdf5')\n",
        "print(model2.predict_classes(X_test[:1, :], verbose=0))\n",
        "\n",
        "#print는 해당 내용 출력!"
      ],
      "execution_count": 145,
      "outputs": [
        {
          "output_type": "stream",
          "text": [
            "[7]\n"
          ],
          "name": "stdout"
        }
      ]
    },
    {
      "cell_type": "code",
      "metadata": {
        "id": "kHlZvUbX9XaZ",
        "colab_type": "code",
        "colab": {}
      },
      "source": [
        ""
      ],
      "execution_count": null,
      "outputs": []
    },
    {
      "cell_type": "code",
      "metadata": {
        "id": "A_FTwHSf9Ych",
        "colab_type": "code",
        "colab": {}
      },
      "source": [
        ""
      ],
      "execution_count": null,
      "outputs": []
    }
  ]
}