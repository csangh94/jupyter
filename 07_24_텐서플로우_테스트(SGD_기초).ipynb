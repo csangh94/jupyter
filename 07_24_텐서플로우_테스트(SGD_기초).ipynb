{
  "nbformat": 4,
  "nbformat_minor": 0,
  "metadata": {
    "colab": {
      "name": "07_24_텐서플로우_테스트.ipynb",
      "provenance": [],
      "collapsed_sections": []
    },
    "kernelspec": {
      "name": "python3",
      "display_name": "Python 3"
    }
  },
  "cells": [
    {
      "cell_type": "code",
      "metadata": {
        "id": "4w7C0i4Td9Je",
        "colab_type": "code",
        "colab": {}
      },
      "source": [
        "import tensorflow as tf #텐서플로우 import"
      ],
      "execution_count": null,
      "outputs": []
    },
    {
      "cell_type": "code",
      "metadata": {
        "id": "USpwA31iezzw",
        "colab_type": "code",
        "colab": {}
      },
      "source": [
        "#tf = 텐서플로우!"
      ],
      "execution_count": null,
      "outputs": []
    },
    {
      "cell_type": "code",
      "metadata": {
        "id": "v_MAkdQAe75s",
        "colab_type": "code",
        "colab": {}
      },
      "source": [
        "import functools\n",
        "import numpy as np"
      ],
      "execution_count": null,
      "outputs": []
    },
    {
      "cell_type": "code",
      "metadata": {
        "id": "Lsf07t9gfkrC",
        "colab_type": "code",
        "colab": {
          "base_uri": "https://localhost:8080/",
          "height": 52
        },
        "outputId": "2efd6fe0-cfb4-4b2f-8d75-c182ec025c65"
      },
      "source": [
        "TRAIN_DATA_URL = \"https://storage.googleapis.com/tf-datasets/titanic/train.csv\"\n",
        "TEST_DATA_URL = \"https://storage.googleapis.com/tf-datasets/titanic/eval.csv\"\n",
        "\n",
        "train_file_path = tf.keras.utils.get_file(\"train.csv\", TRAIN_DATA_URL)\n",
        "test_file_path = tf.keras.utils.get_file(\"eval.csv\", TEST_DATA_URL) #keras -> TEST data를 csv 파일로 저장할거야~\n"
      ],
      "execution_count": null,
      "outputs": [
        {
          "output_type": "stream",
          "text": [
            "Downloading data from https://storage.googleapis.com/tf-datasets/titanic/eval.csv\n",
            "16384/13049 [=====================================] - 0s 0us/step\n"
          ],
          "name": "stdout"
        }
      ]
    },
    {
      "cell_type": "code",
      "metadata": {
        "id": "MNx70Nm6gD12",
        "colab_type": "code",
        "colab": {
          "base_uri": "https://localhost:8080/",
          "height": 35
        },
        "outputId": "76609936-9886-4fe9-cc83-c7b6892da5d1"
      },
      "source": [
        "train_file_path"
      ],
      "execution_count": null,
      "outputs": [
        {
          "output_type": "execute_result",
          "data": {
            "application/vnd.google.colaboratory.intrinsic+json": {
              "type": "string"
            },
            "text/plain": [
              "'/root/.keras/datasets/train.csv'"
            ]
          },
          "metadata": {
            "tags": []
          },
          "execution_count": 9
        }
      ]
    },
    {
      "cell_type": "code",
      "metadata": {
        "id": "y2Thry56gSZW",
        "colab_type": "code",
        "colab": {
          "base_uri": "https://localhost:8080/",
          "height": 35
        },
        "outputId": "1a015326-a584-408c-f817-425d7c34d687"
      },
      "source": [
        "test_file_path"
      ],
      "execution_count": null,
      "outputs": [
        {
          "output_type": "execute_result",
          "data": {
            "application/vnd.google.colaboratory.intrinsic+json": {
              "type": "string"
            },
            "text/plain": [
              "'/root/.keras/datasets/eval.csv'"
            ]
          },
          "metadata": {
            "tags": []
          },
          "execution_count": 16
        }
      ]
    },
    {
      "cell_type": "code",
      "metadata": {
        "id": "kZs3z9SWi8jt",
        "colab_type": "code",
        "colab": {
          "base_uri": "https://localhost:8080/",
          "height": 35
        },
        "outputId": "304c920c-1c6e-4601-f567-5e6449485cdd"
      },
      "source": [
        "tf.__version__"
      ],
      "execution_count": 17,
      "outputs": [
        {
          "output_type": "execute_result",
          "data": {
            "application/vnd.google.colaboratory.intrinsic+json": {
              "type": "string"
            },
            "text/plain": [
              "'2.2.0'"
            ]
          },
          "metadata": {
            "tags": []
          },
          "execution_count": 17
        }
      ]
    },
    {
      "cell_type": "code",
      "metadata": {
        "id": "4-zpXQQ6ry2h",
        "colab_type": "code",
        "colab": {
          "base_uri": "https://localhost:8080/",
          "height": 168
        },
        "outputId": "b075b6cc-d469-4bb7-f188-acf7fde022ab"
      },
      "source": [
        "keras.__version__"
      ],
      "execution_count": 19,
      "outputs": [
        {
          "output_type": "error",
          "ename": "NameError",
          "evalue": "ignored",
          "traceback": [
            "\u001b[0;31m---------------------------------------------------------------------------\u001b[0m",
            "\u001b[0;31mNameError\u001b[0m                                 Traceback (most recent call last)",
            "\u001b[0;32m<ipython-input-19-77d8d067b4a7>\u001b[0m in \u001b[0;36m<module>\u001b[0;34m()\u001b[0m\n\u001b[0;32m----> 1\u001b[0;31m \u001b[0mkeras\u001b[0m\u001b[0;34m.\u001b[0m\u001b[0m__version__\u001b[0m\u001b[0;34m\u001b[0m\u001b[0;34m\u001b[0m\u001b[0m\n\u001b[0m",
            "\u001b[0;31mNameError\u001b[0m: name 'keras' is not defined"
          ]
        }
      ]
    },
    {
      "cell_type": "code",
      "metadata": {
        "id": "8JcnX3LWr3ZO",
        "colab_type": "code",
        "colab": {
          "base_uri": "https://localhost:8080/",
          "height": 35
        },
        "outputId": "e8969351-5e62-43c5-8a15-6c2ae663f54f"
      },
      "source": [
        "tf.keras.__version__ #케라스는 인공신경망"
      ],
      "execution_count": 21,
      "outputs": [
        {
          "output_type": "execute_result",
          "data": {
            "application/vnd.google.colaboratory.intrinsic+json": {
              "type": "string"
            },
            "text/plain": [
              "'2.3.0-tf'"
            ]
          },
          "metadata": {
            "tags": []
          },
          "execution_count": 21
        }
      ]
    },
    {
      "cell_type": "code",
      "metadata": {
        "id": "uJYRj8MisB41",
        "colab_type": "code",
        "colab": {}
      },
      "source": [
        "from keras import optimizers\n",
        "from keras.models import Sequential\n",
        "from keras.layers import Dense\n",
        "import numpy as np\n",
        "import matplotlib.pyplot as plt\n",
        "%matplotlib inline"
      ],
      "execution_count": 65,
      "outputs": []
    },
    {
      "cell_type": "code",
      "metadata": {
        "id": "p96ndtjSstR0",
        "colab_type": "code",
        "colab": {}
      },
      "source": [
        "#케라스 모듈들 가져오기!"
      ],
      "execution_count": 66,
      "outputs": []
    },
    {
      "cell_type": "code",
      "metadata": {
        "id": "VSuGpjGGtC5s",
        "colab_type": "code",
        "colab": {}
      },
      "source": [
        "x = np.linspace(0, 10, 10)\n",
        "y = x + np.random.randn(*x.shape)"
      ],
      "execution_count": 67,
      "outputs": []
    },
    {
      "cell_type": "code",
      "metadata": {
        "id": "_RqFiYz7taF1",
        "colab_type": "code",
        "colab": {
          "base_uri": "https://localhost:8080/",
          "height": 193
        },
        "outputId": "c1f53494-c516-4308-e613-c8661cd5de79"
      },
      "source": [
        "for a, b in zip(x,y):\n",
        "    print((round(a,1), round(b,1)))\n",
        "\n",
        "#zip 으로 2개 돌림,\n",
        "#round 로 소수점 한개까지 짜름"
      ],
      "execution_count": 68,
      "outputs": [
        {
          "output_type": "stream",
          "text": [
            "(0.0, 0.5)\n",
            "(1.1, 0.1)\n",
            "(2.2, 0.7)\n",
            "(3.3, 1.6)\n",
            "(4.4, 4.6)\n",
            "(5.6, 5.0)\n",
            "(6.7, 7.6)\n",
            "(7.8, 8.4)\n",
            "(8.9, 8.6)\n",
            "(10.0, 8.1)\n"
          ],
          "name": "stdout"
        }
      ]
    },
    {
      "cell_type": "code",
      "metadata": {
        "id": "VpzE6LvmtrKB",
        "colab_type": "code",
        "colab": {}
      },
      "source": [
        "model = Sequential()\n",
        "#Sequential은 테두리"
      ],
      "execution_count": 69,
      "outputs": []
    },
    {
      "cell_type": "code",
      "metadata": {
        "id": "7Ci3JgIqyekx",
        "colab_type": "code",
        "colab": {}
      },
      "source": [
        "#layer를 쌓는다. = 뉴런네트워크의 신경말 레이어\n",
        "model.add(Dense(input_dim=1, units=1, activation='linear', use_bias=False)) #딥러닝 신경망 레이어를 쌓는다. activation = linear(선형회귀)\n",
        "#Dense = 각 층\n",
        "#input_dim = 데이터의 구조\n",
        "#오버피팅 되지 않도록, bias를 넣어줄 때도 있다. 기울기를 너무 딱 구해버리면 새로운 데이터 를 예측하지 못하잖아. \n",
        "#퍼셉트론 : 데이터가 들어가고 나오는 한 단위\n",
        "#linear은 and 나 or 문제만 풀고 XOR 문제는 풀지못함"
      ],
      "execution_count": 70,
      "outputs": []
    },
    {
      "cell_type": "code",
      "metadata": {
        "id": "n4lO1v7hynKl",
        "colab_type": "code",
        "colab": {}
      },
      "source": [
        "#회귀는(Regression)는 모든 데이터를 대표하는 식을 만들어가는 과정이다. -> 방정식을 찾고 -> 기울기를 찾는다\n",
        "#기울기를 가지고 계속 내려오는 방식 : '경사하강법' -> 회귀는 경사하강법을 따른다. = 경사하강법은 미분으로 구해짐\n",
        "#y = ax + b / a는 기울기임\n",
        "# y= 2x + 3 / 이와같이 들어왔을때, y 값을 예측할 수 있잖아. \n",
        "\n",
        "#딥러닝 또한, 기울기를 찾아가는 과정이다. "
      ],
      "execution_count": 71,
      "outputs": []
    },
    {
      "cell_type": "code",
      "metadata": {
        "id": "LmQ3OG7Tz-B6",
        "colab_type": "code",
        "colab": {}
      },
      "source": [
        "# SGD 는 경사하강법이고, lr = 는 내려오는 정도 (learning Rate)\n",
        "# 경사하강법의 기준 \n",
        "# loss : mse 는 그래프의 기울기가 점점 내려 갈때, '손실'을 최소화 시키겠다.= 손실함수(loss function)\n",
        "# 손실함수를 이용하여, 해당 기울기를 선택했을 시 손실을 최소화 시키는 방법을 계산하여, 하강하게 된다. -> 기울기를 찾아간다.\n",
        "\n",
        "#1. 회귀선을 그림 -> 예측을 하기 위함 -> 기울기를 그리는 것\n",
        "#2. SGD는 경사하강법으로, 모델이 가장 예측을 잘하는 최적의 기울기를 찾아가는 것\n",
        "#3. 손실함수를 이용하여, 경사하강법으로 내려갈때 손실을 최소화 시키는 것\n",
        "sgd = optimizers.SGD(lr=0.05)\n",
        "#옵티마이저는 학습을 지정\n",
        "model.compile(optimizer='sgd', loss='mse')"
      ],
      "execution_count": 72,
      "outputs": []
    },
    {
      "cell_type": "code",
      "metadata": {
        "id": "Fo0WPnAP7Hvz",
        "colab_type": "code",
        "colab": {
          "base_uri": "https://localhost:8080/",
          "height": 34
        },
        "outputId": "dac084ff-7a6f-4642-8224-3b153357cf4c"
      },
      "source": [
        "weights = model.layers[0].get_weights() #가중치를 확인\n",
        "weights"
      ],
      "execution_count": 73,
      "outputs": [
        {
          "output_type": "execute_result",
          "data": {
            "text/plain": [
              "[array([[1.4882251]], dtype=float32)]"
            ]
          },
          "metadata": {
            "tags": []
          },
          "execution_count": 73
        }
      ]
    },
    {
      "cell_type": "code",
      "metadata": {
        "id": "4OA92xwh9W8t",
        "colab_type": "code",
        "colab": {}
      },
      "source": [
        "w = weights[0][0][0] #가중치를 0으로 다 설정"
      ],
      "execution_count": 74,
      "outputs": []
    },
    {
      "cell_type": "code",
      "metadata": {
        "id": "CoHUVDKo9dal",
        "colab_type": "code",
        "colab": {
          "base_uri": "https://localhost:8080/",
          "height": 34
        },
        "outputId": "d8508552-e82b-45ce-e8ba-c4055918df15"
      },
      "source": [
        "print('첫 설정된 기울기: ' + str(w))"
      ],
      "execution_count": 75,
      "outputs": [
        {
          "output_type": "stream",
          "text": [
            "첫 설정된 기울기: 1.4882251\n"
          ],
          "name": "stdout"
        }
      ]
    },
    {
      "cell_type": "code",
      "metadata": {
        "id": "Yg06tAsg9hE7",
        "colab_type": "code",
        "colab": {
          "base_uri": "https://localhost:8080/",
          "height": 386
        },
        "outputId": "2b48769c-6023-4b8c-c863-abb1f358d227"
      },
      "source": [
        "model.fit(x,y, batch_size=10, epochs=10, verbose=1) #학습해보셈\n",
        "#batch_size : 10개\n",
        "#epoch 는 몇 번 내려올지"
      ],
      "execution_count": 76,
      "outputs": [
        {
          "output_type": "stream",
          "text": [
            "Epoch 1/10\n",
            "10/10 [==============================] - 0s 2ms/step - loss: 11.7074\n",
            "Epoch 2/10\n",
            "10/10 [==============================] - 0s 136us/step - loss: 1.9682\n",
            "Epoch 3/10\n",
            "10/10 [==============================] - 0s 189us/step - loss: 1.1131\n",
            "Epoch 4/10\n",
            "10/10 [==============================] - 0s 131us/step - loss: 1.0381\n",
            "Epoch 5/10\n",
            "10/10 [==============================] - 0s 136us/step - loss: 1.0315\n",
            "Epoch 6/10\n",
            "10/10 [==============================] - 0s 128us/step - loss: 1.0309\n",
            "Epoch 7/10\n",
            "10/10 [==============================] - 0s 133us/step - loss: 1.0309\n",
            "Epoch 8/10\n",
            "10/10 [==============================] - 0s 118us/step - loss: 1.0309\n",
            "Epoch 9/10\n",
            "10/10 [==============================] - 0s 121us/step - loss: 1.0309\n",
            "Epoch 10/10\n",
            "10/10 [==============================] - 0s 123us/step - loss: 1.0309\n"
          ],
          "name": "stdout"
        },
        {
          "output_type": "execute_result",
          "data": {
            "text/plain": [
              "<keras.callbacks.callbacks.History at 0x7ff6fe4e9240>"
            ]
          },
          "metadata": {
            "tags": []
          },
          "execution_count": 76
        }
      ]
    },
    {
      "cell_type": "code",
      "metadata": {
        "id": "6gNZXSIN97Bx",
        "colab_type": "code",
        "colab": {
          "base_uri": "https://localhost:8080/",
          "height": 265
        },
        "outputId": "27a847d2-24b4-4f98-ffb1-04aa13791aed"
      },
      "source": [
        "plt.plot(x, y, label='data')\n",
        "plt.plot(x,w*x, label='predict') #딥러닝이 예측하는 값\n",
        "plt.legend() #라벨을 보여줌\n",
        "plt.show()"
      ],
      "execution_count": 77,
      "outputs": [
        {
          "output_type": "display_data",
          "data": {
            "image/png": "[encoded data removed]",
            "text/plain": [
              "<Figure size 432x288 with 1 Axes>"
            ]
          },
          "metadata": {
            "tags": [],
            "needs_background": "light"
          }
        }
      ]
    },
    {
      "cell_type": "code",
      "metadata": {
        "id": "mpDT46G0-Pi4",
        "colab_type": "code",
        "colab": {}
      },
      "source": [
        "#선형에서는 정확도 체크를 (margin) 두 선간의 면적(공간)의 사이즈로 피팅이 얼마나 되었는지를 확인함"
      ],
      "execution_count": 78,
      "outputs": []
    },
    {
      "cell_type": "code",
      "metadata": {
        "id": "pNMp8G7r_2Pe",
        "colab_type": "code",
        "colab": {}
      },
      "source": [
        "#1. 회귀란 무엇인가? 회귀란 과거의 데이터를 통해서 미래의 결과를 예측 하는 것이다. \n",
        "#2. 머신러닝과 딥러닝의 차이 : 머신러닝은 기계학습, 기계에게 데이터를 주고 학습시켜 결과를 맞추는 것이다. 딥러닝은 머신러닝이 심화된 단계로서, 인간의 신경망(뉴럴 네트워크를) 레이어와 노드로 구성하여 사고의 확장과 심화로 정ㄷ바을 맞추는 것이다.\n",
        "#3. 텐서플로우 : 학습 과정에서 신경망의 구조까지 스스로 학습하여 스스로 변하게 할 수 있는 레이어구조의 라이브러리\n",
        "#4. Keras(케라스)의 역할 : 파이썬으로 작성된 라이브러리로, 딥러닝 신경망을 구축하도록 도와준다. 텐서플로우에서 작동함.\n",
        "#5. epoch(에포크)란? 몇번을 실행할지, 횟수를 정해주는 것\n",
        "#6. 경사하강법은 언제 사용하는가? 무엇인가? 회구의 기울기를 찾아갈 때, 처음에 임의로 선정한 기울기에서 찾고자 하는 기울기를 찾아 점진적으로 내려가는 방법이다.\n",
        "#7. 딥러닝의 optimizer는 무엇인가? 딥러닝을 하는 도중, 훈련의 크기를 조절하는 것\n",
        "#8. 경사하강법에서 기울기를 왜 찾아가는가? 예측하고자 하는 값은 방정식의 기울기가 되기 때문이다.\n",
        "#9. 일반적으로 회귀의 정확도를 구할때 사용하는 방법은? 답안이 되는 선과, 예측이 되는 선 사이의 만들어진 '면적'을 사용한다.\n",
        "#10. 딥러닝에서 layer를 나타내는 객체이름은? dense\n",
        "#11. 딥러닝에서 모든 입력을 가지고 처리 후 결과를 산출하는 하나의 단위는? 퍼셉트론\n",
        "#12. 다음 중 컴퓨터가 제일 해결하기 어려워하는 문제는? OR, AND, XOR / XOR\n",
        "#13. 하나의 레이어에 여러 퍼셉트론을 사용할 수 있다. O\n",
        "#14. 하나의 퍼셉트론으론으로는 XOR 문제를 풀 수 없다.\n",
        "#15. 여러 레이어인 경우 하나의 레이어에서 결정된 결과를 다음 레이어에서 어떻게 전달하는가? 가중치와 함께 전달함(=Weight)\n",
        " #각 레이어마다 가중치가 큰것들 중심으로 다음 레이어에 전달되고, 다음 레이어에서는 이 가중치를 사용하여 중간처리를 하게 됨.\n",
        " #레이어가 여러 개 인 경우, 각 레이어간 가중치를 지속적으로 전달하여 최종적으로 결과를 산출함(forward propagation, 순전파) <-> back propagation, 역전파(전달받은 가중치를 가지고 처리하는 중 고려했던 것보다 가중치가 크지 않은 경우, 이전 레이어에 가서 가중치를 다시 조절하는 방법임)\n",
        "#16. 퍼셉트론 : 데이터가 들어가고 처리되는 하나의 단위(입, 처리, 출력) "
      ],
      "execution_count": 82,
      "outputs": []
    },
    {
      "cell_type": "code",
      "metadata": {
        "id": "RCxuYD5F1tzt",
        "colab_type": "code",
        "colab": {}
      },
      "source": [
        ""
      ],
      "execution_count": null,
      "outputs": []
    },
    {
      "cell_type": "code",
      "metadata": {
        "id": "LugJaeyCAwPz",
        "colab_type": "code",
        "colab": {}
      },
      "source": [
        ""
      ],
      "execution_count": null,
      "outputs": []
    }
  ]
}